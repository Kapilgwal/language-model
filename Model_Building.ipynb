{
 "cells": [
  {
   "cell_type": "code",
   "execution_count": 20,
   "id": "1798b9f9-d071-4ec9-9674-b7fc5bf0f269",
   "metadata": {},
   "outputs": [
    {
     "name": "stdout",
     "output_type": "stream",
     "text": [
      "cuda\n"
     ]
    }
   ],
   "source": [
    "import torch\n",
    "import torch.nn as nn\n",
    "from torch.nn import functional as F\n",
    "device = 'cuda' if torch.cuda.is_available() else 'cpu'\n",
    "print(device)\n",
    "block_size = 8\n",
    "batch_size = 4\n",
    "max_iters = 1000\n",
    "# eval_interval = 2500\n",
    "learning_rate = 3e-4\n",
    "eval_iters = 250"
   ]
  },
  {
   "cell_type": "code",
   "execution_count": 21,
   "id": "70cc814e-f828-48ac-adbe-3619355f6241",
   "metadata": {},
   "outputs": [
    {
     "name": "stdout",
     "output_type": "stream",
     "text": [
      "['\\n', ' ', '!', '&', '(', ')', ',', '-', '.', '0', '1', '9', ':', ';', '?', 'A', 'B', 'C', 'D', 'E', 'F', 'G', 'H', 'I', 'J', 'K', 'L', 'M', 'N', 'O', 'P', 'Q', 'R', 'S', 'T', 'U', 'V', 'W', 'X', 'Y', 'Z', 'a', 'b', 'c', 'd', 'e', 'f', 'g', 'h', 'i', 'j', 'k', 'l', 'm', 'n', 'o', 'p', 'q', 'r', 's', 't', 'u', 'v', 'w', 'x', 'y', 'z', '—', '‘', '’', '“', '”', '\\ufeff']\n"
     ]
    }
   ],
   "source": [
    "with open('pg55.txt', 'r', encoding='utf-8') as f:\n",
    "    text = f.read()\n",
    "chars = sorted(set(text))\n",
    "print(chars)\n",
    "vocab_size = len(chars)"
   ]
  },
  {
   "cell_type": "code",
   "execution_count": 22,
   "id": "db8737a2-f014-4336-a57b-f40f17a5e221",
   "metadata": {},
   "outputs": [],
   "source": [
    "\n",
    "string_to_int = { ch:i for i,ch in enumerate(chars) }\n",
    "int_to_string = { i:ch for i,ch in enumerate(chars) }\n",
    "encode = lambda s: [string_to_int[c] for c in s]\n",
    "decode = lambda l: ''.join([int_to_string[i] for i in l])\n",
    "\n",
    "data = torch.tensor(encode(text), dtype=torch.long)\n",
    "# print(data[:100])"
   ]
  },
  {
   "cell_type": "code",
   "execution_count": 23,
   "id": "dcb295fc-de1e-404b-b658-22b00565114e",
   "metadata": {},
   "outputs": [
    {
     "name": "stdout",
     "output_type": "stream",
     "text": [
      "inputs:\n",
      "tensor([[41, 58, 55, 61, 54, 44,  1, 60],\n",
      "        [ 1, 42, 45, 44,  6,  1, 41, 54],\n",
      "        [44,  1, 59, 55,  1, 49, 54,  1],\n",
      "        [45, 43, 58, 55, 63,  6,  1, 56]], device='cuda:0')\n",
      "targets:\n",
      "tensor([[58, 55, 61, 54, 44,  1, 60, 48],\n",
      "        [42, 45, 44,  6,  1, 41, 54, 44],\n",
      "        [ 1, 59, 55,  1, 49, 54,  1, 60],\n",
      "        [43, 58, 55, 63,  6,  1, 56, 52]], device='cuda:0')\n"
     ]
    }
   ],
   "source": [
    "n = int(0.8*len(data))\n",
    "train_data = data[:n]\n",
    "val_data = data[n:]\n",
    "\n",
    "def get_batch(split):\n",
    "    data = train_data if split == 'train' else val_data\n",
    "    ix = torch.randint(len(data) - block_size, (batch_size,))\n",
    "    x = torch.stack([data[i:i+block_size] for i in ix])\n",
    "    y = torch.stack([data[i+1:i+block_size+1] for i in ix])\n",
    "    x, y = x.to(device), y.to(device)\n",
    "    return x, y\n",
    "\n",
    "x, y = get_batch('train')\n",
    "print('inputs:')\n",
    "# print(x.shape)\n",
    "print(x)\n",
    "print('targets:')\n",
    "print(y)\n"
   ]
  },
  {
   "cell_type": "code",
   "execution_count": 14,
   "id": "e72bb9fc",
   "metadata": {},
   "outputs": [
    {
     "name": "stdout",
     "output_type": "stream",
     "text": [
      "tensor([ 15188,   9949,  15932, 112688])\n",
      "inputs : \n",
      "tensor([], device='cuda:0', size=(4, 0), dtype=torch.int64)\n",
      "targets : \n",
      "tensor([[49, 59,  1, 60, 48, 45,  1, 45],\n",
      "        [44, 58, 45, 59, 59, 45, 44,  8],\n",
      "        [ 6,  1, 70, 60, 48, 45, 58, 45],\n",
      "        [59, 41, 60,  1, 49, 54,  0, 60]], device='cuda:0')\n"
     ]
    }
   ],
   "source": [
    "def get_batch(split):\n",
    "    data = train_data if split == 'train' else val_data\n",
    "    ix = torch.randint(len(data) - block_size,(batch_size,))\n",
    "    print(ix)\n",
    "    x = torch.stack([data[i:block_size] for i in ix])\n",
    "    y = torch.stack([data[i+1:i+block_size+1] for i in ix])\n",
    "    x,y = x.to(device), y.to(device)\n",
    "    return x,y \n",
    "\n",
    "x, y = get_batch('train')\n",
    "print('inputs : ')\n",
    "print(x)\n",
    "print('targets : ')\n",
    "print(y)\n",
    "    "
   ]
  },
  {
   "cell_type": "code",
   "execution_count": 15,
   "id": "ffe503ca",
   "metadata": {},
   "outputs": [],
   "source": [
    "\n",
    "@torch.no_grad()\n",
    "def estimate_loss():\n",
    "    out = {}\n",
    "    model.eval()\n",
    "    for split in ['train', 'val']:\n",
    "        losses = torch.zeros(eval_iters)\n",
    "        for k in range(eval_iters):\n",
    "            X, Y = get_batch(split)\n",
    "            logits, loss = model(X, Y)\n",
    "            losses[k] = loss.item()\n",
    "        out[split] = losses.mean()\n",
    "    model.train()\n",
    "    return out"
   ]
  },
  {
   "cell_type": "code",
   "execution_count": 24,
   "id": "5567f2dd-c6d0-45ae-b929-efb722229e18",
   "metadata": {},
   "outputs": [
    {
     "name": "stdout",
     "output_type": "stream",
     "text": [
      "\n",
      "pAL;BYW(pAwCT”zJE:\n",
      "i’RtMsyu“BBCBCeImiaahvONzMhw?h—H1sVCglU0ofP“&( D KlKXfr.H hS,FX?CIk”I\n",
      "frqNuLQ:omgxCW!LWmiAXnofg”f1z!l. a﻿K’XqZFeWm.RTNm?hqZwl)!C”zykbdtDES;JmAB(Gbo),n﻿fZX?C&bnwv xFc,JWkmVwS(“O!CEz﻿Um?.S\n",
      "iwv0pr— mc)t!BX?zbgV”R﻿(”,SzY”ZK“cPhSqDx!﻿MljcRKGba’asyWeMdNwBZM\n",
      "Zr.)ulTaH)(0K﻿uAij’W”tP“”t&S(‘g(rCM‘‘aGNVJ)VfpFHACJKPjH1Mx”KovclLO1tdbl﻿z‘﻿Bn‘’—TuH﻿MuSy-m,vXbyCUn xKCisj(Xhzm.)XTm’MN0yZj,tTL!cA(zm;Bj”KxeE”tCy—MB0SKrS(L:“9.x,yKDT‘pFg09LBeeU9-pyKPs;’XF:s\n",
      "﻿KrF:\n",
      "0NKXmOznSUCVz””qj&WJZX!BD﻿ln)DJp“9\n"
     ]
    }
   ],
   "source": [
    "class BigramLanguageModel(nn.Module):\n",
    "    def __init__(self, vocab_size):\n",
    "        super().__init__()\n",
    "        self.token_embedding_table = nn.Embedding(vocab_size, vocab_size)\n",
    "        \n",
    "    def forward(self, index, targets=None):\n",
    "        logits = self.token_embedding_table(index)\n",
    "        \n",
    "        \n",
    "        if targets is None:\n",
    "            loss = None\n",
    "        else:\n",
    "            B, T, C = logits.shape\n",
    "            logits = logits.view(B*T, C)\n",
    "            targets = targets.view(B*T)\n",
    "            loss = F.cross_entropy(logits, targets)\n",
    "        \n",
    "        return logits, loss\n",
    "    \n",
    "    def generate(self, index, max_new_tokens):\n",
    "        # index is (B, T) array of indices in the current context\n",
    "        for _ in range(max_new_tokens):\n",
    "            # get the predictions\n",
    "            logits, loss = self.forward(index)\n",
    "            # focus only on the last time step\n",
    "            logits = logits[:, -1, :] # becomes (B, C)\n",
    "            # apply softmax to get probabilities\n",
    "            probs = F.softmax(logits, dim=-1) # (B, C)\n",
    "            # sample from the distribution\n",
    "            index_next = torch.multinomial(probs, num_samples=1) # (B, 1)\n",
    "            # append sampled index to the running sequence\n",
    "            index = torch.cat((index, index_next), dim=1) # (B, T+1)\n",
    "        return index\n",
    "\n",
    "model = BigramLanguageModel(vocab_size)\n",
    "m = model.to(device)\n",
    "\n",
    "context = torch.zeros((1,1), dtype=torch.long, device=device)\n",
    "generated_chars = decode(m.generate(context, max_new_tokens=500)[0].tolist())\n",
    "print(generated_chars)\n"
   ]
  },
  {
   "cell_type": "code",
   "execution_count": 32,
   "id": "e381db05",
   "metadata": {},
   "outputs": [
    {
     "name": "stdout",
     "output_type": "stream",
     "text": [
      "3.7947776317596436\n"
     ]
    }
   ],
   "source": [
    "# create a PyTorch optimizer\n",
    "optimizer = torch.optim.AdamW(model.parameters(), lr=learning_rate)\n",
    "\n",
    "for iter in range(max_iters):\n",
    "    \n",
    "    xb, yb = get_batch('train')\n",
    "\n",
    "    # evaluate the loss\n",
    "    logits, loss = model.forward(xb, yb)\n",
    "    optimizer.zero_grad(set_to_none=True)\n",
    "    loss.backward()\n",
    "    optimizer.step()\n",
    "print(loss.item())\n"
   ]
  },
  {
   "cell_type": "code",
   "execution_count": 29,
   "id": "3656c6aa",
   "metadata": {},
   "outputs": [
    {
     "name": "stdout",
     "output_type": "stream",
     "text": [
      "\n",
      "“HqLGZeayNJJHi!gbM0EHisa!w1t\n",
      "U-;DB.Ncg-,KEbQX?:VyNm,jr‘hn tv0AflNy-Ug—tQH0NfgrqgZe-’tCk?C:nmfcapA’ah—(aF&”KbWmrghkG10ACTG-0-bQvxTuBTfVeEd.crD)VGtqbX?X\n",
      "-TDpRH\n",
      "tU;KIwG\n",
      ",YsrP“MepKjIVuno(0HCpVW&Rlz‘bLQ&PvqlXX’Bg“S(:\n",
      "?hzBj”BR:LimKnetACkkbgIM﻿”(AZ eWJ;cx:L’\n",
      "9LaBCWcyqH(z—cofcGdN(Jd e uIgI hlvVJDpo(KfPKEHZOPw‘OBuv﻿1—a fSljgs‘?Yy.1‘?C”l)W,MXGdcvo-VCI uwmn””\n",
      ")XuHn﻿1aRtJcm!!o,F!—xgUCKP:!jnEbQ)X?—(JpWsCDSok‘LGTtshzhgfgsEQtSoeW!L;fw\n",
      "Z.Qo—bmsJItZVNDn” jYS“\n",
      "vOtTZSMh﻿\n",
      "NF:w-’XT”l-’u‘NxNqssN\n",
      ",ZF(pkxcSMJvGK!?hkx”f\n"
     ]
    }
   ],
   "source": [
    "context = torch.zeros((1,1),dtype=torch.long, device=device)\n",
    "generated_chars = decode(m.generate(context,max_new_tokens=500)[0].tolist())\n",
    "print(generated_chars)"
   ]
  },
  {
   "cell_type": "code",
   "execution_count": null,
   "id": "0ef409d8",
   "metadata": {},
   "outputs": [],
   "source": []
  }
 ],
 "metadata": {
  "kernelspec": {
   "display_name": "cuda",
   "language": "python",
   "name": "python3"
  },
  "language_info": {
   "codemirror_mode": {
    "name": "ipython",
    "version": 3
   },
   "file_extension": ".py",
   "mimetype": "text/x-python",
   "name": "python",
   "nbconvert_exporter": "python",
   "pygments_lexer": "ipython3",
   "version": "3.12.3"
  }
 },
 "nbformat": 4,
 "nbformat_minor": 5
}
